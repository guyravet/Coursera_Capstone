{
    "nbformat_minor": 2, 
    "cells": [
        {
            "source": "# Coursera Capstone Project\n\n## The Battle of Neighborhoods (Week 1)\n", 
            "cell_type": "markdown", 
            "metadata": {}
        }, 
        {
            "source": "Introduction and Data Sections", 
            "cell_type": "markdown", 
            "metadata": {}
        }, 
        {
            "execution_count": 1, 
            "cell_type": "code", 
            "metadata": {}, 
            "outputs": [
                {
                    "output_type": "stream", 
                    "name": "stdout", 
                    "text": "Solving environment: done\n\n## Package Plan ##\n\n  environment location: /opt/conda/envs/Python36\n\n  added / updated specs: \n    - folium=0.5.0\n\n\nThe following packages will be downloaded:\n\n    package                    |            build\n    ---------------------------|-----------------\n    ca-certificates-2019.9.11  |       hecc5488_0         144 KB  conda-forge\n    altair-3.2.0               |           py36_0         770 KB  conda-forge\n    branca-0.3.1               |             py_0          25 KB  conda-forge\n    openssl-1.1.1c             |       h516909a_0         2.1 MB  conda-forge\n    folium-0.5.0               |             py_0          45 KB  conda-forge\n    vincent-0.4.4              |             py_1          28 KB  conda-forge\n    certifi-2019.9.11          |           py36_0         147 KB  conda-forge\n    ------------------------------------------------------------\n                                           Total:         3.3 MB\n\nThe following NEW packages will be INSTALLED:\n\n    altair:          3.2.0-py36_0      conda-forge\n    branca:          0.3.1-py_0        conda-forge\n    folium:          0.5.0-py_0        conda-forge\n    vincent:         0.4.4-py_1        conda-forge\n\nThe following packages will be UPDATED:\n\n    ca-certificates: 2019.5.15-1                   --> 2019.9.11-hecc5488_0 conda-forge\n    certifi:         2019.6.16-py36_1              --> 2019.9.11-py36_0     conda-forge\n\nThe following packages will be DOWNGRADED:\n\n    openssl:         1.1.1d-h7b6447c_1             --> 1.1.1c-h516909a_0    conda-forge\n\n\nDownloading and Extracting Packages\nca-certificates-2019 | 144 KB    | ##################################### | 100% \naltair-3.2.0         | 770 KB    | ##################################### | 100% \nbranca-0.3.1         | 25 KB     | ##################################### | 100% \nopenssl-1.1.1c       | 2.1 MB    | ##################################### | 100% \nfolium-0.5.0         | 45 KB     | ##################################### | 100% \nvincent-0.4.4        | 28 KB     | ##################################### | 100% \ncertifi-2019.9.11    | 147 KB    | ##################################### | 100% \nPreparing transaction: done\nVerifying transaction: done\nExecuting transaction: done\nLibraries imported.\n"
                }
            ], 
            "source": "import numpy as np # library to handle data in a vectorized manner\nimport time\nimport pandas as pd # library for data analsysis\npd.set_option('display.max_columns', None)\npd.set_option('display.max_rows', None)\n\nimport json # library to handle JSON files\nimport requests # library to handle requests\nfrom pandas.io.json import json_normalize # tranform JSON file into a pandas dataframe\n\nfrom geopy.geocoders import Nominatim # convert an address into latitude and longitude values\n!conda install -c conda-forge folium=0.5.0 --yes # uncomment this line if you haven't completed the Foursquare API lab\nimport folium # map rendering library\n\nprint('Libraries imported.')"
        }, 
        {
            "source": "### Coursera Capstone \n#### - Introduction Section :   \nDiscussion of the business problem and interested audience.\n#### - Data Section:   \nDescription of the data that will be used to solve the problem and the sources.\n#### - Methodology section  \nDiscussion and description of exploratory data analysis carried out.\n#### - Results section   \nDiscussion of the results.\n#### - Discussion section   \nElaboration and discussion on any observations noted and any recommendations suggested based on the results.\n#### - Conclusion section   \nReport Conclusion.", 
            "cell_type": "markdown", 
            "metadata": {}
        }, 
        {
            "source": "# 1.\tIntroduction Section : \n### Discussion of the business problem and the audience who would be interested in this project.\n", 
            "cell_type": "markdown", 
            "metadata": {}
        }, 
        {
            "source": "### Description of the Problem and Background\n\n### Scenario:\n\nI'm a data scientist in Switzerland. I recently got promoted but will need to move to New York City. I don't really know the city so I need a way to find out which neighborhood would be best for me. I have a comfortable life in Switzerland and would like to find the same, or better, in this gorgeous city.\n\nHere are my requests : \n - 2 or 3 bedrooms apartment\n - Near a metro station in the Manhattan area and within 1.0 mile (1.6 km) radius\n - Rent below $7,000 per month\n - Ammenities in the selected neighborhood shall be similar to my current situation\n - Would like to have venues such as coffee shops, asian food restaurants, wine stores, gym club and food shops    ", 
            "cell_type": "markdown", 
            "metadata": {}
        }, 
        {
            "source": "### Business Problem:   \nThe challenge is to find a suitable apartment for rent in Manhattan that complies with the demands on location, price and venues. The data required to resolve this challenge is described in the following section 2.\n\n\n### Interested Audience\nI believe this is a relevant challenge with valid questions for anyone moving to any other large city. The same methodology can be applied in accordance to demands as applicable. It definetely a good exercise to develop Data Science skills.\n", 
            "cell_type": "markdown", 
            "metadata": {}
        }, 
        {
            "source": "# 2. Data Section:\u00b6\n### Description of the data and its sources that will be used to solve the problem", 
            "cell_type": "markdown", 
            "metadata": {}
        }, 
        {
            "source": "### Description of the Data:\u00b6\n\nThe following data is required to  answer the issues of the problem:\n\n- List of Boroughs and neighborhoods of Manhattan with their geodata (latitude and longitude) \n- List of Subway metro stations in Manhattan with their address location \n- List of apartments for rent in Manhattan area with their addresses and price\n- List of apartment for rent with additional information, such as price, address, area, # of beds, etc\n- Venues for each Manhattan neighborhood\n- Venues for subway metro stations\n\n\n### How the data will be used to solve the problem\n\nThe data will be used as follows:\n- Use Foursquare and geopy data to map top 10 venues for all Manhattan neighborhoods and clustered in groups\n- Use foursquare and geopy data to map the location of subway metro stations , separately and on top of the above clustered map in order to be able to identify the venues and ammenities near each metro station, or explore each subway location separately\n- Use Foursquare and geopy data to map the location of rental places, in some form, linked to the subway locations.\n- Create a map that indicates the average rental price per square ft, around a radious of 1.0 mile (1.6 km) of each subway station.\n- Addresses from rental locations will be converted to geodata( lat, long) using Geopy-distance and Nominatim.\n- Data will be searched in open data sources, from real estate sites, libraries or other government agencies such as Metro New York MTA, etc.\n\n\nThe procesing of these DATA will allow to answer the key questions to make a decision:\n- what is the cost of rent (per square ft) around a mile radius from each subway metro station?\n- what is the area of Manhattan with best rental pricing that meets criteria established?\n- What is the distance from work place ( Park Ave and 53 rd St) and future home?\n- What are the venues of the two best places to live? How the prices compare?\n- How venues distribute among Manhattan neighborhoods and around metro stations?\n- Are there tradeoffs between size, price and location?\n- Any other interesting statistical data findings.\n", 
            "cell_type": "markdown", 
            "metadata": {}
        }
    ], 
    "metadata": {
        "kernelspec": {
            "display_name": "Python 3.6", 
            "name": "python3", 
            "language": "python"
        }, 
        "language_info": {
            "mimetype": "text/x-python", 
            "nbconvert_exporter": "python", 
            "version": "3.6.8", 
            "name": "python", 
            "file_extension": ".py", 
            "pygments_lexer": "ipython3", 
            "codemirror_mode": {
                "version": 3, 
                "name": "ipython"
            }
        }
    }, 
    "nbformat": 4
}