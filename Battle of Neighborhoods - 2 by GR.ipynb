{
    "nbformat_minor": 2, 
    "cells": [
        {
            "source": "# Coursera Capstone Project\n\n## The Battle of Neighborhoods - Final Report (Week 1 and 2)\n\n## Guy Ravet\n", 
            "cell_type": "markdown", 
            "metadata": {}
        }, 
        {
            "execution_count": 5, 
            "cell_type": "code", 
            "metadata": {}, 
            "outputs": [
                {
                    "output_type": "stream", 
                    "name": "stdout", 
                    "text": "Solving environment: done\n\n# All requested packages already installed.\n\nSolving environment: done\n\n# All requested packages already installed.\n\nLibraries imported.\n"
                }
            ], 
            "source": "import numpy as np # library to handle data in a vectorized manner\nimport time\nimport pandas as pd # library for data analsysis\npd.set_option('display.max_columns', None)\npd.set_option('display.max_rows', None)\n\nimport json # library to handle JSON files\nimport requests # library to handle requests\nfrom pandas.io.json import json_normalize # tranform JSON file into a pandas dataframe\n\n\n!conda install -c conda-forge geopy --yes # uncomment this line if you haven't completed the Foursquare API lab\nfrom geopy.geocoders import Nominatim # convert an address into latitude and longitude values\n\n!conda install -c conda-forge folium=0.5.0 --yes # uncomment this line if you haven't completed the Foursquare API lab\nimport folium # map rendering library\nimport folium # map rendering library\nfrom folium import plugins\n\n# Matplotlib and associated plotting modules\nimport matplotlib.cm as cm\nimport matplotlib.colors as colors\n\nimport seaborn as sns\n\n# import k-means from clustering stage\nfrom sklearn.cluster import KMeans\n\n\n\nprint('Libraries imported.')"
        }, 
        {
            "execution_count": 33, 
            "cell_type": "code", 
            "metadata": {}, 
            "outputs": [
                {
                    "execution_count": 33, 
                    "metadata": {}, 
                    "data": {
                        "text/html": "<div>\n<style scoped>\n    .dataframe tbody tr th:only-of-type {\n        vertical-align: middle;\n    }\n\n    .dataframe tbody tr th {\n        vertical-align: top;\n    }\n\n    .dataframe thead th {\n        text-align: right;\n    }\n</style>\n<table border=\"1\" class=\"dataframe\">\n  <thead>\n    <tr style=\"text-align: right;\">\n      <th></th>\n      <th>Borough</th>\n      <th>Neighborhood</th>\n      <th>Latitude</th>\n      <th>Longitude</th>\n      <th>Cluster Labels</th>\n    </tr>\n  </thead>\n  <tbody>\n    <tr>\n      <th>0</th>\n      <td>Manhattan</td>\n      <td>Marble Hill</td>\n      <td>40.876551</td>\n      <td>-73.910660</td>\n      <td>2</td>\n    </tr>\n    <tr>\n      <th>1</th>\n      <td>Manhattan</td>\n      <td>Chinatown</td>\n      <td>40.715618</td>\n      <td>-73.994279</td>\n      <td>2</td>\n    </tr>\n    <tr>\n      <th>2</th>\n      <td>Manhattan</td>\n      <td>Washington Heights</td>\n      <td>40.851903</td>\n      <td>-73.936900</td>\n      <td>4</td>\n    </tr>\n    <tr>\n      <th>3</th>\n      <td>Manhattan</td>\n      <td>Inwood</td>\n      <td>40.867684</td>\n      <td>-73.921210</td>\n      <td>3</td>\n    </tr>\n    <tr>\n      <th>4</th>\n      <td>Manhattan</td>\n      <td>Hamilton Heights</td>\n      <td>40.823604</td>\n      <td>-73.949688</td>\n      <td>0</td>\n    </tr>\n  </tbody>\n</table>\n</div>", 
                        "text/plain": "     Borough        Neighborhood   Latitude  Longitude  Cluster Labels\n0  Manhattan         Marble Hill  40.876551 -73.910660               2\n1  Manhattan           Chinatown  40.715618 -73.994279               2\n2  Manhattan  Washington Heights  40.851903 -73.936900               4\n3  Manhattan              Inwood  40.867684 -73.921210               3\n4  Manhattan    Hamilton Heights  40.823604 -73.949688               0"
                    }, 
                    "output_type": "execute_result"
                }
            ], 
            "source": "# The code was removed by Watson Studio for sharing."
        }, 
        {
            "execution_count": 37, 
            "cell_type": "code", 
            "metadata": {}, 
            "outputs": [
                {
                    "execution_count": 37, 
                    "metadata": {}, 
                    "data": {
                        "text/html": "<div>\n<style scoped>\n    .dataframe tbody tr th:only-of-type {\n        vertical-align: middle;\n    }\n\n    .dataframe tbody tr th {\n        vertical-align: top;\n    }\n\n    .dataframe thead th {\n        text-align: right;\n    }\n</style>\n<table border=\"1\" class=\"dataframe\">\n  <thead>\n    <tr style=\"text-align: right;\">\n      <th></th>\n      <th>Address</th>\n      <th>Area</th>\n      <th>Price_per_ft2</th>\n      <th>Rooms</th>\n      <th>Area-ft2</th>\n      <th>Rent_Price</th>\n      <th>Lat</th>\n      <th>Long</th>\n    </tr>\n  </thead>\n  <tbody>\n    <tr>\n      <th>0</th>\n      <td>West 105th Street</td>\n      <td>Upper West Side</td>\n      <td>2.94</td>\n      <td>5.0</td>\n      <td>3400</td>\n      <td>10000</td>\n      <td>NaN</td>\n      <td>NaN</td>\n    </tr>\n    <tr>\n      <th>1</th>\n      <td>East 97th Street</td>\n      <td>Upper East Side</td>\n      <td>3.57</td>\n      <td>3.0</td>\n      <td>2100</td>\n      <td>7500</td>\n      <td>NaN</td>\n      <td>NaN</td>\n    </tr>\n    <tr>\n      <th>2</th>\n      <td>West 105th Street</td>\n      <td>Upper West Side</td>\n      <td>1.89</td>\n      <td>4.0</td>\n      <td>2800</td>\n      <td>5300</td>\n      <td>NaN</td>\n      <td>NaN</td>\n    </tr>\n    <tr>\n      <th>3</th>\n      <td>CARMINE ST.</td>\n      <td>West Village</td>\n      <td>3.03</td>\n      <td>2.0</td>\n      <td>1650</td>\n      <td>5000</td>\n      <td>NaN</td>\n      <td>NaN</td>\n    </tr>\n    <tr>\n      <th>4</th>\n      <td>171 W 23RD ST.</td>\n      <td>Chelsea</td>\n      <td>3.45</td>\n      <td>2.0</td>\n      <td>1450</td>\n      <td>5000</td>\n      <td>NaN</td>\n      <td>NaN</td>\n    </tr>\n  </tbody>\n</table>\n</div>", 
                        "text/plain": "             Address             Area  Price_per_ft2  Rooms  Area-ft2  \\\n0  West 105th Street  Upper West Side           2.94    5.0      3400   \n1   East 97th Street  Upper East Side           3.57    3.0      2100   \n2  West 105th Street  Upper West Side           1.89    4.0      2800   \n3        CARMINE ST.     West Village           3.03    2.0      1650   \n4    171 W 23RD ST.           Chelsea           3.45    2.0      1450   \n\n   Rent_Price  Lat  Long  \n0       10000  NaN   NaN  \n1        7500  NaN   NaN  \n2        5300  NaN   NaN  \n3        5000  NaN   NaN  \n4        5000  NaN   NaN  "
                    }, 
                    "output_type": "execute_result"
                }
            ], 
            "source": "\nbody = client_93c8f3b6e0d845dfa025384daf149bb5.get_object(Bucket='courseracapstone-donotdelete-pr-aloi0rzs0juxny',Key='mh_flats_price.csv')['Body']\n# add missing __iter__ method, so pandas accepts body as file-like object\nif not hasattr(body, \"__iter__\"): body.__iter__ = types.MethodType( __iter__, body )\n\ndf_data_2 = pd.read_csv(body)\ndf_data_2.head()\n"
        }, 
        {
            "source": "# Coursera Capstone\n\n#### - Introduction Section :   \nDiscussion of the business problem and interested audience.\n#### - Data Section:   \nDescription of the data that will be used to solve the problem and the sources.\n#### - Methodology section  \nDiscussion and description of exploratory data analysis carried out.\n#### - Results section   \nDiscussion of the results.\n#### - Discussion section   \nElaboration and discussion on any observations noted and any recommendations suggested based on the results.\n#### - Conclusion section   \nReport Conclusion.", 
            "cell_type": "markdown", 
            "metadata": {}
        }, 
        {
            "source": "# 1.\tIntroduction Section : \n### Discussion of the business problem and the audience who would be interested in this project.", 
            "cell_type": "markdown", 
            "metadata": {}
        }, 
        {
            "source": "### Description of the Problem and Background\n\n### Scenario:\n\nI'm a data scientist in Switzerland. I recently got promoted but will need to move to New York City. I don't really know the city so I need a way to find out which neighborhood would be best for me. I have a comfortable life in Switzerland and would like to find the same, or better, in this gorgeous city.\n\nHere are my requests : \n - 2 or 3 bedrooms apartment\n - Near a metro station in the Manhattan area and within 1.0 mile (1.6 km) radius\n - Rent below $7,000 per month\n - Ammenities in the selected neighborhood shall be similar to my current situation\n - Would like to have venues such as coffee shops, asian food restaurants, wine stores, gym club and food shops    \n    ", 
            "cell_type": "markdown", 
            "metadata": {}
        }, 
        {
            "source": "### Business Problem:   \nThe challenge is to find a suitable apartment for rent in Manhattan that complies with the demands on location, price and venues. The data required to resolve this challenge is described in the following section 2.\n\n### Interested Audience\nI believe this is a relevant challenge with valid questions for anyone moving to any other large city. The same methodology can be applied in accordance to demands as applicable. It definetely a good exercise to develop Data Science skills.", 
            "cell_type": "markdown", 
            "metadata": {}
        }, 
        {
            "source": "# 2. Data Section:\n### Description of the data and its sources that will be used to solve the problem", 
            "cell_type": "markdown", 
            "metadata": {}
        }, 
        {
            "source": "### Data Required to resolve the problem\nIn order to make a good choice of AN apartment in Manhattan NY, the following data is required:\nList/Information on neighborhoods form Manhattan with their Geodata ( latitude and longitude)\nList/Information about the subway metro stations in Manhattan with geodata.\nListed apartments for rent in Manhattan area with descriptions ( how many beds, price, location, address)\nVenues and ammenities in the Manhattan neighborhoods\n\nThe list of Manhattan neighborhoods has been done in this course before. A csv file was created which will be read in order to create a dataframe and its mapping. The csv file 'mh_neigh_data.csv'  has the following below data structure. The file will be directly read to the Jupiter Notebook for convenience and space savings. The clustering of neighborhoods and mapping will be shown however. An algorythm was used to determine the geodata from Nominatim . The actual algorythm coding may be shown in 'markdown' mode becasues it takes time to run. \n\nmh_neigh_data.tail():\n\n              Borough    Neighborhood    Latitude    Longitude\n\n          35    Manhattan    Turtle Bay    40.752042    -73.967708\n\n          36    Manhattan    Tudor City    40.746917    -73.971219\n\n          37    Manhattan    Stuyvesant Town    40.731000    -73.974052\n\n          38    Manhattan    Flatiron    40.739673    -73.990947\n\n          39    Manhattan    Hudson Yards    40.756658    -74.000111\n  \nA list of Manhattan subway metro stops was complied in Numbers and it was complemeted with wikipedia data ( https://en.wikipedia.org/wiki/List_of_New_York_City_Subway_stations_in_Manhattan) and information from NY Transit authority and Google maps (https://www.google.com/maps/search/manhattan+subway+metro+stations/@40.7837297,-74.1033043,11z/data=!3m1!4b1) for a final consolidated list of subway stops names and their address. The geolocation was obtained via an algorythm using Nominatim. Details will be shown in the execution of methodolody in section 3.0. The subway csv file is ''MH_subway.csv'\" and the data structure is: mhsub.tail():\n               sub_station                    sub_address                         lat        long\n\n      17    190 Street Subway Station    Bennett Ave, New York, NY 10040, USA    40.858113    -73.932983\n\n      18    59 St-Lexington Av Station    E 60th St, New York, NY 10065, USA        40.762259    -73.966271\n\n      19    57 Street Station    New York, NY 10019, United States                40.764250    -73.954525\n\n      20    14 Street / 8 Av    New York, NY 10014, United States                40.730862    -73.987156\n\n      21    MTA New York City    525 11th Ave, New York, NY 10018, USA            40.759809    -73.999282\nA list of places for rent was collected by web-browsing real estate companies in Manhattan : http://www.rentmanhattan.com/index.cfm?page=search&state=results https://www.nestpick.com/search?city=new-york&page=1&order=relevance&district=manhattan&gclid=CjwKCAiAjNjgBRAgEiwAGLlf2hkP3A-cPxjZYkURqQEswQK2jKQEpv_MvKcrIhRWRzNkc_r-fGi0lxoCA7cQAvD_BwE&type=apartment&display=list https://www.realtor.com/apartments/Manhattan_NY\nA csv file was compiled with the rental place that indicated: areas of Manhattan, address, number of beds, area and monthly rental price. The csv file \"nnnn.csv\" had the following below structure. An algorythm was used to create all the geodata using Nominatim, as shown in section 3.0. The actual algorythm coding may be shown in 'markdown' mode becasues it takes time to run. With the use of geolocator = Nominatim() , it was possible to determine the latitude and longiude for the subway metro locations as well as for the geodata for each rental place listed. The loop algorythms used are shown in the execution of data in section 3.0\n\"Great_circle\" function from geolocator was used to calculate distances between two points , as in the case to calculate average rent price for units around each subway station and at 1.6 km radius.\nFoursquare is used to find the avenues at Manhattan neighborhoods in general and a cluster is created to later be able to search for the venues depending of the location shown.\n\n###  How the data will be used to solve the problem\nThe data will be used as follows:\nUse Foursquare and geopy data to map top 10 venues for all Manhattan neighborhoods and clustered in groups  \nUse foursquare and geopy data to map the location of subway metro stations , separately and on top of the above clustered map in order to be able to identify the venues and ammenities near each metro station, or explore each subway location separately  \nUse Foursquare and geopy data to map the location of rental places, in some form, linked to the subway locations.  \nCreate a map that indicates, for instance, the average rental price per square ft, around a radious of 1.0 mile (1.6 km) around each subway station - or a similar metrics. I will be able to quickly point to the popups to know the relative price per subway area.  \nAddresses from rental locations will be converted to geodata( lat, long) using Geopy-distance and Nominatim.  \nData will be searched in open data sources if available, from real estate sites if open to reading, libraries or other government agencies such as Metro New York MTA, etc.  \n\n###  Mapping of Data\nThe following maps were created to facilitate the analysis and the choice of the palace to live.\nManhattan map of Neighborhoods\nmanhattan subway metro locations\nManhattan map of places for rent\nManhattan map of clustered venues and neighborhoods\nCombined maps of Manhattan rent places with subway locations\nCombined maps of Manhattan rent places with subway locations and venues clusters", 
            "cell_type": "markdown", 
            "metadata": {}
        }, 
        {
            "source": "\n## 3. Methodology section:\n\nThis section represents the main component of the report where the data is gathered, prepared for analysis. The tools described are used here and the Notebook cells indicates the execution of steps. \n\n### The analysis and the stragegy:\nThe strategy is based on mapping the above described data in section 2.0, in order to facilitate the choice of at least two candidate places for rent. The choice is made based on the demands imposed : location near a subway, rental price and similar venues to Singapore. This visual approach and maps with popups labels allow quick identification of  location, price and feature, thus  making the selection very easy. \n\nThe procesing of these DATA and its mapping will allow to answer the key questions to make a decision:\n- what is the cost of available rental places that meet the demands?\n- what is the cost of rent around a mile radius from each subway metro station?\n- what is the area of Manhattan with best rental pricing that meets criteria established?\n- What is the distance from work place ( Park Ave and 53 rd St) and the tentative future rental home?\n- What are the venues of the two best places to live? How the prices compare?\n- How venues distribute among Manhattan neighborhoods and around metro stations?\n- Are there tradeoffs between size and price and location?\n- Any other interesting statistical data findings of the real estate and overall data.", 
            "cell_type": "markdown", 
            "metadata": {}
        }, 
        {
            "source": "#      METHODOLOY EXECUTION  - Mapping Data", 
            "cell_type": "markdown", 
            "metadata": {}
        }, 
        {
            "source": "# MANHATTAN NEIGHBORHOODS - DATA AND MAPPING \n## Cluster neighborhood data was produced with Foursquare during course lab work. A csv file was produced containing the neighborhoods around the 40 Boroughs. Now, the csv file is just read for convenience and consolidation of report.", 
            "cell_type": "markdown", 
            "metadata": {}
        }, 
        {
            "execution_count": 26, 
            "cell_type": "code", 
            "metadata": {}, 
            "outputs": [
                {
                    "execution_count": 26, 
                    "metadata": {}, 
                    "data": {
                        "text/html": "<div>\n<style scoped>\n    .dataframe tbody tr th:only-of-type {\n        vertical-align: middle;\n    }\n\n    .dataframe tbody tr th {\n        vertical-align: top;\n    }\n\n    .dataframe thead th {\n        text-align: right;\n    }\n</style>\n<table border=\"1\" class=\"dataframe\">\n  <thead>\n    <tr style=\"text-align: right;\">\n      <th></th>\n      <th>Borough</th>\n      <th>Neighborhood</th>\n      <th>Latitude</th>\n      <th>Longitude</th>\n      <th>Cluster Labels</th>\n    </tr>\n  </thead>\n  <tbody>\n    <tr>\n      <th>0</th>\n      <td>Manhattan</td>\n      <td>Marble Hill</td>\n      <td>40.876551</td>\n      <td>-73.910660</td>\n      <td>2</td>\n    </tr>\n    <tr>\n      <th>1</th>\n      <td>Manhattan</td>\n      <td>Chinatown</td>\n      <td>40.715618</td>\n      <td>-73.994279</td>\n      <td>2</td>\n    </tr>\n    <tr>\n      <th>2</th>\n      <td>Manhattan</td>\n      <td>Washington Heights</td>\n      <td>40.851903</td>\n      <td>-73.936900</td>\n      <td>4</td>\n    </tr>\n    <tr>\n      <th>3</th>\n      <td>Manhattan</td>\n      <td>Inwood</td>\n      <td>40.867684</td>\n      <td>-73.921210</td>\n      <td>3</td>\n    </tr>\n    <tr>\n      <th>4</th>\n      <td>Manhattan</td>\n      <td>Hamilton Heights</td>\n      <td>40.823604</td>\n      <td>-73.949688</td>\n      <td>0</td>\n    </tr>\n  </tbody>\n</table>\n</div>", 
                        "text/plain": "     Borough        Neighborhood   Latitude  Longitude  Cluster Labels\n0  Manhattan         Marble Hill  40.876551 -73.910660               2\n1  Manhattan           Chinatown  40.715618 -73.994279               2\n2  Manhattan  Washington Heights  40.851903 -73.936900               4\n3  Manhattan              Inwood  40.867684 -73.921210               3\n4  Manhattan    Hamilton Heights  40.823604 -73.949688               0"
                    }, 
                    "output_type": "execute_result"
                }
            ], 
            "source": "# Read csv file with clustered neighborhoods with geodata\nmanhattan_data  = df_data_1\nmanhattan_data.head()"
        }, 
        {
            "execution_count": 27, 
            "cell_type": "code", 
            "metadata": {}, 
            "outputs": [
                {
                    "execution_count": 27, 
                    "metadata": {}, 
                    "data": {
                        "text/html": "<div>\n<style scoped>\n    .dataframe tbody tr th:only-of-type {\n        vertical-align: middle;\n    }\n\n    .dataframe tbody tr th {\n        vertical-align: top;\n    }\n\n    .dataframe thead th {\n        text-align: right;\n    }\n</style>\n<table border=\"1\" class=\"dataframe\">\n  <thead>\n    <tr style=\"text-align: right;\">\n      <th></th>\n      <th>Borough</th>\n      <th>Neighborhood</th>\n      <th>Latitude</th>\n      <th>Longitude</th>\n      <th>Cluster Labels</th>\n    </tr>\n  </thead>\n  <tbody>\n    <tr>\n      <th>35</th>\n      <td>Manhattan</td>\n      <td>Turtle Bay</td>\n      <td>40.752042</td>\n      <td>-73.967708</td>\n      <td>3</td>\n    </tr>\n    <tr>\n      <th>36</th>\n      <td>Manhattan</td>\n      <td>Tudor City</td>\n      <td>40.746917</td>\n      <td>-73.971219</td>\n      <td>3</td>\n    </tr>\n    <tr>\n      <th>37</th>\n      <td>Manhattan</td>\n      <td>Stuyvesant Town</td>\n      <td>40.731000</td>\n      <td>-73.974052</td>\n      <td>4</td>\n    </tr>\n    <tr>\n      <th>38</th>\n      <td>Manhattan</td>\n      <td>Flatiron</td>\n      <td>40.739673</td>\n      <td>-73.990947</td>\n      <td>3</td>\n    </tr>\n    <tr>\n      <th>39</th>\n      <td>Manhattan</td>\n      <td>Hudson Yards</td>\n      <td>40.756658</td>\n      <td>-74.000111</td>\n      <td>2</td>\n    </tr>\n  </tbody>\n</table>\n</div>", 
                        "text/plain": "      Borough     Neighborhood   Latitude  Longitude  Cluster Labels\n35  Manhattan       Turtle Bay  40.752042 -73.967708               3\n36  Manhattan       Tudor City  40.746917 -73.971219               3\n37  Manhattan  Stuyvesant Town  40.731000 -73.974052               4\n38  Manhattan         Flatiron  40.739673 -73.990947               3\n39  Manhattan     Hudson Yards  40.756658 -74.000111               2"
                    }, 
                    "output_type": "execute_result"
                }
            ], 
            "source": "manhattan_data.tail()"
        }, 
        {
            "source": "# Manhattan Borough neighborhoods - data with top 10 clustered venues\n", 
            "cell_type": "markdown", 
            "metadata": {}
        }, 
        {
            "execution_count": 57, 
            "cell_type": "code", 
            "metadata": {
                "scrolled": true
            }, 
            "outputs": [
                {
                    "ename": "UnicodeDecodeError", 
                    "evalue": "'utf-8' codec can't decode byte 0xe9 in position 3: unexpected end of data", 
                    "traceback": [
                        "\u001b[0;31m---------------------------------------------------------------------------\u001b[0m", 
                        "\u001b[0;31mUnicodeDecodeError\u001b[0m                        Traceback (most recent call last)", 
                        "\u001b[0;32mpandas/_libs/parsers.pyx\u001b[0m in \u001b[0;36mpandas._libs.parsers.TextReader._convert_tokens\u001b[0;34m()\u001b[0m\n", 
                        "\u001b[0;32mpandas/_libs/parsers.pyx\u001b[0m in \u001b[0;36mpandas._libs.parsers.TextReader._convert_with_dtype\u001b[0;34m()\u001b[0m\n", 
                        "\u001b[0;32mpandas/_libs/parsers.pyx\u001b[0m in \u001b[0;36mpandas._libs.parsers.TextReader._string_convert\u001b[0;34m()\u001b[0m\n", 
                        "\u001b[0;32mpandas/_libs/parsers.pyx\u001b[0m in \u001b[0;36mpandas._libs.parsers._string_box_utf8\u001b[0;34m()\u001b[0m\n", 
                        "\u001b[0;31mUnicodeDecodeError\u001b[0m: 'utf-8' codec can't decode byte 0xe9 in position 3: unexpected end of data", 
                        "\nDuring handling of the above exception, another exception occurred:\n", 
                        "\u001b[0;31mUnicodeDecodeError\u001b[0m                        Traceback (most recent call last)", 
                        "\u001b[0;32m<ipython-input-57-c2a1b2b0b773>\u001b[0m in \u001b[0;36m<module>\u001b[0;34m\u001b[0m\n\u001b[1;32m      4\u001b[0m \u001b[0;32mif\u001b[0m \u001b[0;32mnot\u001b[0m \u001b[0mhasattr\u001b[0m\u001b[0;34m(\u001b[0m\u001b[0mbody\u001b[0m\u001b[0;34m,\u001b[0m \u001b[0;34m\"__iter__\"\u001b[0m\u001b[0;34m)\u001b[0m\u001b[0;34m:\u001b[0m \u001b[0mbody\u001b[0m\u001b[0;34m.\u001b[0m\u001b[0m__iter__\u001b[0m \u001b[0;34m=\u001b[0m \u001b[0mtypes\u001b[0m\u001b[0;34m.\u001b[0m\u001b[0mMethodType\u001b[0m\u001b[0;34m(\u001b[0m \u001b[0m__iter__\u001b[0m\u001b[0;34m,\u001b[0m \u001b[0mbody\u001b[0m \u001b[0;34m)\u001b[0m\u001b[0;34m\u001b[0m\u001b[0;34m\u001b[0m\u001b[0m\n\u001b[1;32m      5\u001b[0m \u001b[0;34m\u001b[0m\u001b[0m\n\u001b[0;32m----> 6\u001b[0;31m \u001b[0mdf_data_7\u001b[0m \u001b[0;34m=\u001b[0m \u001b[0mpd\u001b[0m\u001b[0;34m.\u001b[0m\u001b[0mread_csv\u001b[0m\u001b[0;34m(\u001b[0m\u001b[0mbody\u001b[0m\u001b[0;34m)\u001b[0m\u001b[0;34m\u001b[0m\u001b[0;34m\u001b[0m\u001b[0m\n\u001b[0m\u001b[1;32m      7\u001b[0m \u001b[0mdf_data_7\u001b[0m\u001b[0;34m.\u001b[0m\u001b[0mhead\u001b[0m\u001b[0;34m(\u001b[0m\u001b[0;34m)\u001b[0m\u001b[0;34m\u001b[0m\u001b[0;34m\u001b[0m\u001b[0m\n", 
                        "\u001b[0;32m/opt/conda/envs/Python36/lib/python3.6/site-packages/pandas/io/parsers.py\u001b[0m in \u001b[0;36mparser_f\u001b[0;34m(filepath_or_buffer, sep, delimiter, header, names, index_col, usecols, squeeze, prefix, mangle_dupe_cols, dtype, engine, converters, true_values, false_values, skipinitialspace, skiprows, skipfooter, nrows, na_values, keep_default_na, na_filter, verbose, skip_blank_lines, parse_dates, infer_datetime_format, keep_date_col, date_parser, dayfirst, iterator, chunksize, compression, thousands, decimal, lineterminator, quotechar, quoting, doublequote, escapechar, comment, encoding, dialect, tupleize_cols, error_bad_lines, warn_bad_lines, delim_whitespace, low_memory, memory_map, float_precision)\u001b[0m\n\u001b[1;32m    700\u001b[0m                     skip_blank_lines=skip_blank_lines)\n\u001b[1;32m    701\u001b[0m \u001b[0;34m\u001b[0m\u001b[0m\n\u001b[0;32m--> 702\u001b[0;31m         \u001b[0;32mreturn\u001b[0m \u001b[0m_read\u001b[0m\u001b[0;34m(\u001b[0m\u001b[0mfilepath_or_buffer\u001b[0m\u001b[0;34m,\u001b[0m \u001b[0mkwds\u001b[0m\u001b[0;34m)\u001b[0m\u001b[0;34m\u001b[0m\u001b[0;34m\u001b[0m\u001b[0m\n\u001b[0m\u001b[1;32m    703\u001b[0m \u001b[0;34m\u001b[0m\u001b[0m\n\u001b[1;32m    704\u001b[0m     \u001b[0mparser_f\u001b[0m\u001b[0;34m.\u001b[0m\u001b[0m__name__\u001b[0m \u001b[0;34m=\u001b[0m \u001b[0mname\u001b[0m\u001b[0;34m\u001b[0m\u001b[0;34m\u001b[0m\u001b[0m\n", 
                        "\u001b[0;32m/opt/conda/envs/Python36/lib/python3.6/site-packages/pandas/io/parsers.py\u001b[0m in \u001b[0;36m_read\u001b[0;34m(filepath_or_buffer, kwds)\u001b[0m\n\u001b[1;32m    433\u001b[0m \u001b[0;34m\u001b[0m\u001b[0m\n\u001b[1;32m    434\u001b[0m     \u001b[0;32mtry\u001b[0m\u001b[0;34m:\u001b[0m\u001b[0;34m\u001b[0m\u001b[0;34m\u001b[0m\u001b[0m\n\u001b[0;32m--> 435\u001b[0;31m         \u001b[0mdata\u001b[0m \u001b[0;34m=\u001b[0m \u001b[0mparser\u001b[0m\u001b[0;34m.\u001b[0m\u001b[0mread\u001b[0m\u001b[0;34m(\u001b[0m\u001b[0mnrows\u001b[0m\u001b[0;34m)\u001b[0m\u001b[0;34m\u001b[0m\u001b[0;34m\u001b[0m\u001b[0m\n\u001b[0m\u001b[1;32m    436\u001b[0m     \u001b[0;32mfinally\u001b[0m\u001b[0;34m:\u001b[0m\u001b[0;34m\u001b[0m\u001b[0;34m\u001b[0m\u001b[0m\n\u001b[1;32m    437\u001b[0m         \u001b[0mparser\u001b[0m\u001b[0;34m.\u001b[0m\u001b[0mclose\u001b[0m\u001b[0;34m(\u001b[0m\u001b[0;34m)\u001b[0m\u001b[0;34m\u001b[0m\u001b[0;34m\u001b[0m\u001b[0m\n", 
                        "\u001b[0;32m/opt/conda/envs/Python36/lib/python3.6/site-packages/pandas/io/parsers.py\u001b[0m in \u001b[0;36mread\u001b[0;34m(self, nrows)\u001b[0m\n\u001b[1;32m   1137\u001b[0m     \u001b[0;32mdef\u001b[0m \u001b[0mread\u001b[0m\u001b[0;34m(\u001b[0m\u001b[0mself\u001b[0m\u001b[0;34m,\u001b[0m \u001b[0mnrows\u001b[0m\u001b[0;34m=\u001b[0m\u001b[0;32mNone\u001b[0m\u001b[0;34m)\u001b[0m\u001b[0;34m:\u001b[0m\u001b[0;34m\u001b[0m\u001b[0;34m\u001b[0m\u001b[0m\n\u001b[1;32m   1138\u001b[0m         \u001b[0mnrows\u001b[0m \u001b[0;34m=\u001b[0m \u001b[0m_validate_integer\u001b[0m\u001b[0;34m(\u001b[0m\u001b[0;34m'nrows'\u001b[0m\u001b[0;34m,\u001b[0m \u001b[0mnrows\u001b[0m\u001b[0;34m)\u001b[0m\u001b[0;34m\u001b[0m\u001b[0;34m\u001b[0m\u001b[0m\n\u001b[0;32m-> 1139\u001b[0;31m         \u001b[0mret\u001b[0m \u001b[0;34m=\u001b[0m \u001b[0mself\u001b[0m\u001b[0;34m.\u001b[0m\u001b[0m_engine\u001b[0m\u001b[0;34m.\u001b[0m\u001b[0mread\u001b[0m\u001b[0;34m(\u001b[0m\u001b[0mnrows\u001b[0m\u001b[0;34m)\u001b[0m\u001b[0;34m\u001b[0m\u001b[0;34m\u001b[0m\u001b[0m\n\u001b[0m\u001b[1;32m   1140\u001b[0m \u001b[0;34m\u001b[0m\u001b[0m\n\u001b[1;32m   1141\u001b[0m         \u001b[0;31m# May alter columns / col_dict\u001b[0m\u001b[0;34m\u001b[0m\u001b[0;34m\u001b[0m\u001b[0;34m\u001b[0m\u001b[0m\n", 
                        "\u001b[0;32m/opt/conda/envs/Python36/lib/python3.6/site-packages/pandas/io/parsers.py\u001b[0m in \u001b[0;36mread\u001b[0;34m(self, nrows)\u001b[0m\n\u001b[1;32m   1993\u001b[0m     \u001b[0;32mdef\u001b[0m \u001b[0mread\u001b[0m\u001b[0;34m(\u001b[0m\u001b[0mself\u001b[0m\u001b[0;34m,\u001b[0m \u001b[0mnrows\u001b[0m\u001b[0;34m=\u001b[0m\u001b[0;32mNone\u001b[0m\u001b[0;34m)\u001b[0m\u001b[0;34m:\u001b[0m\u001b[0;34m\u001b[0m\u001b[0;34m\u001b[0m\u001b[0m\n\u001b[1;32m   1994\u001b[0m         \u001b[0;32mtry\u001b[0m\u001b[0;34m:\u001b[0m\u001b[0;34m\u001b[0m\u001b[0;34m\u001b[0m\u001b[0m\n\u001b[0;32m-> 1995\u001b[0;31m             \u001b[0mdata\u001b[0m \u001b[0;34m=\u001b[0m \u001b[0mself\u001b[0m\u001b[0;34m.\u001b[0m\u001b[0m_reader\u001b[0m\u001b[0;34m.\u001b[0m\u001b[0mread\u001b[0m\u001b[0;34m(\u001b[0m\u001b[0mnrows\u001b[0m\u001b[0;34m)\u001b[0m\u001b[0;34m\u001b[0m\u001b[0;34m\u001b[0m\u001b[0m\n\u001b[0m\u001b[1;32m   1996\u001b[0m         \u001b[0;32mexcept\u001b[0m \u001b[0mStopIteration\u001b[0m\u001b[0;34m:\u001b[0m\u001b[0;34m\u001b[0m\u001b[0;34m\u001b[0m\u001b[0m\n\u001b[1;32m   1997\u001b[0m             \u001b[0;32mif\u001b[0m \u001b[0mself\u001b[0m\u001b[0;34m.\u001b[0m\u001b[0m_first_chunk\u001b[0m\u001b[0;34m:\u001b[0m\u001b[0;34m\u001b[0m\u001b[0;34m\u001b[0m\u001b[0m\n", 
                        "\u001b[0;32mpandas/_libs/parsers.pyx\u001b[0m in \u001b[0;36mpandas._libs.parsers.TextReader.read\u001b[0;34m()\u001b[0m\n", 
                        "\u001b[0;32mpandas/_libs/parsers.pyx\u001b[0m in \u001b[0;36mpandas._libs.parsers.TextReader._read_low_memory\u001b[0;34m()\u001b[0m\n", 
                        "\u001b[0;32mpandas/_libs/parsers.pyx\u001b[0m in \u001b[0;36mpandas._libs.parsers.TextReader._read_rows\u001b[0;34m()\u001b[0m\n", 
                        "\u001b[0;32mpandas/_libs/parsers.pyx\u001b[0m in \u001b[0;36mpandas._libs.parsers.TextReader._convert_column_data\u001b[0;34m()\u001b[0m\n", 
                        "\u001b[0;32mpandas/_libs/parsers.pyx\u001b[0m in \u001b[0;36mpandas._libs.parsers.TextReader._convert_tokens\u001b[0;34m()\u001b[0m\n", 
                        "\u001b[0;32mpandas/_libs/parsers.pyx\u001b[0m in \u001b[0;36mpandas._libs.parsers.TextReader._convert_with_dtype\u001b[0;34m()\u001b[0m\n", 
                        "\u001b[0;32mpandas/_libs/parsers.pyx\u001b[0m in \u001b[0;36mpandas._libs.parsers.TextReader._string_convert\u001b[0;34m()\u001b[0m\n", 
                        "\u001b[0;32mpandas/_libs/parsers.pyx\u001b[0m in \u001b[0;36mpandas._libs.parsers._string_box_utf8\u001b[0;34m()\u001b[0m\n", 
                        "\u001b[0;31mUnicodeDecodeError\u001b[0m: 'utf-8' codec can't decode byte 0xe9 in position 3: unexpected end of data"
                    ], 
                    "output_type": "error"
                }
            ], 
            "source": "\nbody = client_93c8f3b6e0d845dfa025384daf149bb5.get_object(Bucket='courseracapstone-donotdelete-pr-aloi0rzs0juxny',Key='mh_new.csv')['Body']\n# add missing __iter__ method, so pandas accepts body as file-like object\nif not hasattr(body, \"__iter__\"): body.__iter__ = types.MethodType( __iter__, body )\n\ndf_data_7 = pd.read_csv(body)\ndf_data_7.head()\n"
        }, 
        {
            "execution_count": 56, 
            "cell_type": "code", 
            "metadata": {}, 
            "outputs": [
                {
                    "ename": "NameError", 
                    "evalue": "name 'df_data_6' is not defined", 
                    "traceback": [
                        "\u001b[0;31m---------------------------------------------------------------------------\u001b[0m", 
                        "\u001b[0;31mNameError\u001b[0m                                 Traceback (most recent call last)", 
                        "\u001b[0;32m<ipython-input-56-08a6e2e1d47f>\u001b[0m in \u001b[0;36m<module>\u001b[0;34m\u001b[0m\n\u001b[0;32m----> 1\u001b[0;31m \u001b[0mmanhattan_merged\u001b[0m \u001b[0;34m=\u001b[0m \u001b[0mdf_data_6\u001b[0m\u001b[0;34m\u001b[0m\u001b[0;34m\u001b[0m\u001b[0m\n\u001b[0m\u001b[1;32m      2\u001b[0m \u001b[0mmanhattan_merged\u001b[0m\u001b[0;34m.\u001b[0m\u001b[0mhead\u001b[0m\u001b[0;34m(\u001b[0m\u001b[0;34m)\u001b[0m\u001b[0;34m\u001b[0m\u001b[0;34m\u001b[0m\u001b[0m\n", 
                        "\u001b[0;31mNameError\u001b[0m: name 'df_data_6' is not defined"
                    ], 
                    "output_type": "error"
                }
            ], 
            "source": "manhattan_merged = df_data_6\nmanhattan_merged.head()"
        }, 
        {
            "source": "# Map of Manhattan neighborhoods with top 10 clustered venues\n\n## popus   allow to identify each neighborhood and the cluster of venues around it in order to proceed to examine in more detail in the next cell", 
            "cell_type": "markdown", 
            "metadata": {}
        }, 
        {
            "execution_count": null, 
            "cell_type": "code", 
            "metadata": {}, 
            "outputs": [], 
            "source": "# create map of Manhattan using latitude and longitude values from Nominatim\nlatitude= 40.7308619\nlongitude= -73.9871558 \n\nkclusters=5\nmap_clusters = folium.Map(location=[latitude, longitude], zoom_start=13)\n\n# set color scheme for the clusters\nx = np.arange(kclusters)\nys = [i+x+(i*x)**2 for i in range(kclusters)]\ncolors_array = cm.rainbow(np.linspace(0, 1, len(ys)))\nrainbow = [colors.rgb2hex(i) for i in colors_array]\n\n# add markers to the map\nmarkers_colors = []\nfor lat, lon, poi, cluster in zip(manhattan_merged['Latitude'], manhattan_merged['Longitude'], manhattan_merged['Neighborhood'], manhattan_merged['Cluster Labels']):\n    label = folium.Popup(str(poi) + ' Cluster ' + str(cluster), parse_html=True)\n    folium.CircleMarker(\n        [lat, lon],\n        radius=20,\n        popup=label,\n        color=rainbow[cluster-1],\n        fill=True,\n        fill_color=rainbow[cluster-1],\n        fill_opacity=0.7).add_to(map_clusters)\n  # add markers for rental places to map\nfor lat, lng, label in zip(manhattan_data['Latitude'], manhattan_data['Longitude'], manhattan_data['Neighborhood']):\n    label = folium.Popup(label, parse_html=True)\n    folium.CircleMarker(\n        [lat, lng],\n        radius=5,\n        popup=label,\n        color='blue',\n        fill=True,\n        fill_color='#3186cc',\n        fill_opacity=0.7,\n        parse_html=False).add_to(map_clusters)    \n    \n       \nmap_clusters"
        }, 
        {
            "source": "## Examine a paticular Cluster - print venues\n\n### After examining several cluster data , I concluded that cluster # 2 is the most suitable place, therefore providing guidance as to where to look for the future apartment .\n### Assign a value to 'kk' to explore a given cluster.", 
            "cell_type": "markdown", 
            "metadata": {}
        }, 
        {
            "execution_count": null, 
            "cell_type": "code", 
            "metadata": {}, 
            "outputs": [], 
            "source": "## kk is the cluster number to explore\nkk = 2\nmanhattan_merged.loc[manhattan_merged['Cluster Labels'] == kk, manhattan_merged.columns[[1] + list(range(5, manhattan_merged.shape[1]))]]"
        }, 
        {
            "source": "# Map of Manhattan places for rent\n\n## Several Manhattan real estate webs were webscrapped to collect rental data, as mentioned in section 2.0 . The resut was summarized in a csv file for direct reading, in order to consolidate the proces. \n### The initial data for 144 apartment did not have the latitude and longitude data (NaN) but the information was established in the following cell using an algorythm and Nominatim.", 
            "cell_type": "markdown", 
            "metadata": {}
        }, 
        {
            "execution_count": 38, 
            "cell_type": "code", 
            "metadata": {}, 
            "outputs": [
                {
                    "execution_count": 38, 
                    "metadata": {}, 
                    "data": {
                        "text/html": "<div>\n<style scoped>\n    .dataframe tbody tr th:only-of-type {\n        vertical-align: middle;\n    }\n\n    .dataframe tbody tr th {\n        vertical-align: top;\n    }\n\n    .dataframe thead th {\n        text-align: right;\n    }\n</style>\n<table border=\"1\" class=\"dataframe\">\n  <thead>\n    <tr style=\"text-align: right;\">\n      <th></th>\n      <th>Address</th>\n      <th>Area</th>\n      <th>Price_per_ft2</th>\n      <th>Rooms</th>\n      <th>Area-ft2</th>\n      <th>Rent_Price</th>\n      <th>Lat</th>\n      <th>Long</th>\n    </tr>\n  </thead>\n  <tbody>\n    <tr>\n      <th>0</th>\n      <td>West 105th Street</td>\n      <td>Upper West Side</td>\n      <td>2.94</td>\n      <td>5.0</td>\n      <td>3400</td>\n      <td>10000</td>\n      <td>NaN</td>\n      <td>NaN</td>\n    </tr>\n    <tr>\n      <th>1</th>\n      <td>East 97th Street</td>\n      <td>Upper East Side</td>\n      <td>3.57</td>\n      <td>3.0</td>\n      <td>2100</td>\n      <td>7500</td>\n      <td>NaN</td>\n      <td>NaN</td>\n    </tr>\n    <tr>\n      <th>2</th>\n      <td>West 105th Street</td>\n      <td>Upper West Side</td>\n      <td>1.89</td>\n      <td>4.0</td>\n      <td>2800</td>\n      <td>5300</td>\n      <td>NaN</td>\n      <td>NaN</td>\n    </tr>\n    <tr>\n      <th>3</th>\n      <td>CARMINE ST.</td>\n      <td>West Village</td>\n      <td>3.03</td>\n      <td>2.0</td>\n      <td>1650</td>\n      <td>5000</td>\n      <td>NaN</td>\n      <td>NaN</td>\n    </tr>\n    <tr>\n      <th>4</th>\n      <td>171 W 23RD ST.</td>\n      <td>Chelsea</td>\n      <td>3.45</td>\n      <td>2.0</td>\n      <td>1450</td>\n      <td>5000</td>\n      <td>NaN</td>\n      <td>NaN</td>\n    </tr>\n  </tbody>\n</table>\n</div>", 
                        "text/plain": "             Address             Area  Price_per_ft2  Rooms  Area-ft2  \\\n0  West 105th Street  Upper West Side           2.94    5.0      3400   \n1   East 97th Street  Upper East Side           3.57    3.0      2100   \n2  West 105th Street  Upper West Side           1.89    4.0      2800   \n3        CARMINE ST.     West Village           3.03    2.0      1650   \n4    171 W 23RD ST.           Chelsea           3.45    2.0      1450   \n\n   Rent_Price  Lat  Long  \n0       10000  NaN   NaN  \n1        7500  NaN   NaN  \n2        5300  NaN   NaN  \n3        5000  NaN   NaN  \n4        5000  NaN   NaN  "
                    }, 
                    "output_type": "execute_result"
                }
            ], 
            "source": "# csv files with rental places with basic data but still wihtout geodata ( latitude and longitude)\n# pd.read_csv(' le.csv', header=None, nrows=5)\nmh_rent= df_data_2\nmh_rent.head()"
        }, 
        {
            "execution_count": 39, 
            "cell_type": "code", 
            "metadata": {}, 
            "outputs": [
                {
                    "execution_count": 39, 
                    "metadata": {}, 
                    "data": {
                        "text/html": "<div>\n<style scoped>\n    .dataframe tbody tr th:only-of-type {\n        vertical-align: middle;\n    }\n\n    .dataframe tbody tr th {\n        vertical-align: top;\n    }\n\n    .dataframe thead th {\n        text-align: right;\n    }\n</style>\n<table border=\"1\" class=\"dataframe\">\n  <thead>\n    <tr style=\"text-align: right;\">\n      <th></th>\n      <th>Address</th>\n      <th>Area</th>\n      <th>Price_per_ft2</th>\n      <th>Rooms</th>\n      <th>Area-ft2</th>\n      <th>Rent_Price</th>\n      <th>Lat</th>\n      <th>Long</th>\n    </tr>\n  </thead>\n  <tbody>\n    <tr>\n      <th>139</th>\n      <td>200 East 72nd Street</td>\n      <td>Rental in Lenox Hill</td>\n      <td>5.15</td>\n      <td>3.0</td>\n      <td>1700</td>\n      <td>8750</td>\n      <td>NaN</td>\n      <td>NaN</td>\n    </tr>\n    <tr>\n      <th>140</th>\n      <td>50 Murray Street</td>\n      <td>No fee rental in Tribeca</td>\n      <td>7.11</td>\n      <td>2.0</td>\n      <td>1223</td>\n      <td>8700</td>\n      <td>NaN</td>\n      <td>NaN</td>\n    </tr>\n    <tr>\n      <th>141</th>\n      <td>300 East 56th Street</td>\n      <td>No fee rental in Midtown East</td>\n      <td>3.87</td>\n      <td>3.0</td>\n      <td>2100</td>\n      <td>8118</td>\n      <td>NaN</td>\n      <td>NaN</td>\n    </tr>\n    <tr>\n      <th>142</th>\n      <td>1930 Broadway</td>\n      <td>No fee rental in Central Park West</td>\n      <td>5.06</td>\n      <td>2.0</td>\n      <td>1600</td>\n      <td>8095</td>\n      <td>NaN</td>\n      <td>NaN</td>\n    </tr>\n    <tr>\n      <th>143</th>\n      <td>33 West 9th Street</td>\n      <td>Rental in Greenwich Village</td>\n      <td>6.67</td>\n      <td>2.0</td>\n      <td>1500</td>\n      <td>10000</td>\n      <td>NaN</td>\n      <td>NaN</td>\n    </tr>\n  </tbody>\n</table>\n</div>", 
                        "text/plain": "                  Address                                Area  Price_per_ft2  \\\n139  200 East 72nd Street                Rental in Lenox Hill           5.15   \n140      50 Murray Street            No fee rental in Tribeca           7.11   \n141  300 East 56th Street       No fee rental in Midtown East           3.87   \n142         1930 Broadway  No fee rental in Central Park West           5.06   \n143    33 West 9th Street         Rental in Greenwich Village           6.67   \n\n     Rooms  Area-ft2  Rent_Price  Lat  Long  \n139    3.0      1700        8750  NaN   NaN  \n140    2.0      1223        8700  NaN   NaN  \n141    3.0      2100        8118  NaN   NaN  \n142    2.0      1600        8095  NaN   NaN  \n143    2.0      1500       10000  NaN   NaN  "
                    }, 
                    "output_type": "execute_result"
                }
            ], 
            "source": "mh_rent.tail()"
        }, 
        {
            "source": "## Obtain geodata ( lat,long) for each rental place in Manhattan with Nominatim\n\n### Data  was stored in a csv file for simplifaction report purposes and saving code processing time in future.", 
            "cell_type": "markdown", 
            "metadata": {}
        }, 
        {
            "execution_count": 51, 
            "cell_type": "code", 
            "metadata": {}, 
            "outputs": [
                {
                    "execution_count": 51, 
                    "metadata": {}, 
                    "data": {
                        "text/html": "<div>\n<style scoped>\n    .dataframe tbody tr th:only-of-type {\n        vertical-align: middle;\n    }\n\n    .dataframe tbody tr th {\n        vertical-align: top;\n    }\n\n    .dataframe thead th {\n        text-align: right;\n    }\n</style>\n<table border=\"1\" class=\"dataframe\">\n  <thead>\n    <tr style=\"text-align: right;\">\n      <th></th>\n      <th>Address</th>\n      <th>Area</th>\n      <th>Price_per_ft2</th>\n      <th>Rooms</th>\n      <th>Area-ft2</th>\n      <th>Rent_Price</th>\n      <th>Lat</th>\n      <th>Long</th>\n    </tr>\n  </thead>\n  <tbody>\n    <tr>\n      <th>0</th>\n      <td>West 105th Street</td>\n      <td>Upper West Side</td>\n      <td>2.94</td>\n      <td>5.0</td>\n      <td>3400</td>\n      <td>10000</td>\n      <td>40.799771</td>\n      <td>-73.966213</td>\n    </tr>\n    <tr>\n      <th>1</th>\n      <td>East 97th Street</td>\n      <td>Upper East Side</td>\n      <td>3.57</td>\n      <td>3.0</td>\n      <td>2100</td>\n      <td>7500</td>\n      <td>40.788585</td>\n      <td>-73.955277</td>\n    </tr>\n    <tr>\n      <th>2</th>\n      <td>West 105th Street</td>\n      <td>Upper West Side</td>\n      <td>1.89</td>\n      <td>4.0</td>\n      <td>2800</td>\n      <td>5300</td>\n      <td>40.799771</td>\n      <td>-73.966213</td>\n    </tr>\n    <tr>\n      <th>3</th>\n      <td>CARMINE ST.</td>\n      <td>West Village</td>\n      <td>3.03</td>\n      <td>2.0</td>\n      <td>1650</td>\n      <td>5000</td>\n      <td>40.730523</td>\n      <td>-74.001873</td>\n    </tr>\n    <tr>\n      <th>4</th>\n      <td>171 W 23RD ST.</td>\n      <td>Chelsea</td>\n      <td>3.45</td>\n      <td>2.0</td>\n      <td>1450</td>\n      <td>5000</td>\n      <td>40.744118</td>\n      <td>-73.995299</td>\n    </tr>\n  </tbody>\n</table>\n</div>", 
                        "text/plain": "             Address             Area  Price_per_ft2  Rooms  Area-ft2  \\\n0  West 105th Street  Upper West Side           2.94    5.0      3400   \n1   East 97th Street  Upper East Side           3.57    3.0      2100   \n2  West 105th Street  Upper West Side           1.89    4.0      2800   \n3        CARMINE ST.     West Village           3.03    2.0      1650   \n4    171 W 23RD ST.           Chelsea           3.45    2.0      1450   \n\n   Rent_Price        Lat       Long  \n0       10000  40.799771 -73.966213  \n1        7500  40.788585 -73.955277  \n2        5300  40.799771 -73.966213  \n3        5000  40.730523 -74.001873  \n4        5000  40.744118 -73.995299  "
                    }, 
                    "output_type": "execute_result"
                }
            ], 
            "source": "\nbody = client_93c8f3b6e0d845dfa025384daf149bb5.get_object(Bucket='courseracapstone-donotdelete-pr-aloi0rzs0juxny',Key='mh_rent_latlong.csv')['Body']\n# add missing __iter__ method, so pandas accepts body as file-like object\nif not hasattr(body, \"__iter__\"): body.__iter__ = types.MethodType( __iter__, body )\n\ndf_data_3 = pd.read_csv(body)\ndf_data_3.head()\n"
        }, 
        {
            "execution_count": null, 
            "cell_type": "code", 
            "metadata": {}, 
            "outputs": [], 
            "source": ""
        }, 
        {
            "execution_count": 48, 
            "cell_type": "code", 
            "metadata": {}, 
            "outputs": [
                {
                    "execution_count": 48, 
                    "metadata": {}, 
                    "data": {
                        "text/html": "<div>\n<style scoped>\n    .dataframe tbody tr th:only-of-type {\n        vertical-align: middle;\n    }\n\n    .dataframe tbody tr th {\n        vertical-align: top;\n    }\n\n    .dataframe thead th {\n        text-align: right;\n    }\n</style>\n<table border=\"1\" class=\"dataframe\">\n  <thead>\n    <tr style=\"text-align: right;\">\n      <th></th>\n      <th>Address</th>\n      <th>Area</th>\n      <th>Price_per_ft2</th>\n      <th>Rooms</th>\n      <th>Area-ft2</th>\n      <th>Rent_Price</th>\n      <th>Lat</th>\n      <th>Long</th>\n    </tr>\n  </thead>\n  <tbody>\n    <tr>\n      <th>0</th>\n      <td>West 105th Street</td>\n      <td>Upper West Side</td>\n      <td>2.94</td>\n      <td>5.0</td>\n      <td>3400</td>\n      <td>10000</td>\n      <td>40.799771</td>\n      <td>-73.966213</td>\n    </tr>\n    <tr>\n      <th>1</th>\n      <td>East 97th Street</td>\n      <td>Upper East Side</td>\n      <td>3.57</td>\n      <td>3.0</td>\n      <td>2100</td>\n      <td>7500</td>\n      <td>40.788585</td>\n      <td>-73.955277</td>\n    </tr>\n    <tr>\n      <th>2</th>\n      <td>West 105th Street</td>\n      <td>Upper West Side</td>\n      <td>1.89</td>\n      <td>4.0</td>\n      <td>2800</td>\n      <td>5300</td>\n      <td>40.799771</td>\n      <td>-73.966213</td>\n    </tr>\n    <tr>\n      <th>3</th>\n      <td>CARMINE ST.</td>\n      <td>West Village</td>\n      <td>3.03</td>\n      <td>2.0</td>\n      <td>1650</td>\n      <td>5000</td>\n      <td>40.730523</td>\n      <td>-74.001873</td>\n    </tr>\n    <tr>\n      <th>4</th>\n      <td>171 W 23RD ST.</td>\n      <td>Chelsea</td>\n      <td>3.45</td>\n      <td>2.0</td>\n      <td>1450</td>\n      <td>5000</td>\n      <td>40.744118</td>\n      <td>-73.995299</td>\n    </tr>\n  </tbody>\n</table>\n</div>", 
                        "text/plain": "             Address             Area  Price_per_ft2  Rooms  Area-ft2  \\\n0  West 105th Street  Upper West Side           2.94    5.0      3400   \n1   East 97th Street  Upper East Side           3.57    3.0      2100   \n2  West 105th Street  Upper West Side           1.89    4.0      2800   \n3        CARMINE ST.     West Village           3.03    2.0      1650   \n4    171 W 23RD ST.           Chelsea           3.45    2.0      1450   \n\n   Rent_Price        Lat       Long  \n0       10000  40.799771 -73.966213  \n1        7500  40.788585 -73.955277  \n2        5300  40.799771 -73.966213  \n3        5000  40.730523 -74.001873  \n4        5000  40.744118 -73.995299  "
                    }, 
                    "output_type": "execute_result"
                }
            ], 
            "source": "mh_rent= df_data_3\nmh_rent.head()"
        }, 
        {
            "execution_count": 49, 
            "cell_type": "code", 
            "metadata": {}, 
            "outputs": [
                {
                    "execution_count": 49, 
                    "metadata": {}, 
                    "data": {
                        "text/html": "<div>\n<style scoped>\n    .dataframe tbody tr th:only-of-type {\n        vertical-align: middle;\n    }\n\n    .dataframe tbody tr th {\n        vertical-align: top;\n    }\n\n    .dataframe thead th {\n        text-align: right;\n    }\n</style>\n<table border=\"1\" class=\"dataframe\">\n  <thead>\n    <tr style=\"text-align: right;\">\n      <th></th>\n      <th>Address</th>\n      <th>Area</th>\n      <th>Price_per_ft2</th>\n      <th>Rooms</th>\n      <th>Area-ft2</th>\n      <th>Rent_Price</th>\n      <th>Lat</th>\n      <th>Long</th>\n    </tr>\n  </thead>\n  <tbody>\n    <tr>\n      <th>139</th>\n      <td>200 East 72nd Street</td>\n      <td>Rental in Lenox Hill</td>\n      <td>5.15</td>\n      <td>3.0</td>\n      <td>1700</td>\n      <td>8750</td>\n      <td>40.769465</td>\n      <td>-73.960339</td>\n    </tr>\n    <tr>\n      <th>140</th>\n      <td>50 Murray Street</td>\n      <td>No fee rental in Tribeca</td>\n      <td>7.11</td>\n      <td>2.0</td>\n      <td>1223</td>\n      <td>8700</td>\n      <td>40.714051</td>\n      <td>-74.009608</td>\n    </tr>\n    <tr>\n      <th>141</th>\n      <td>300 East 56th Street</td>\n      <td>No fee rental in Midtown East</td>\n      <td>3.87</td>\n      <td>3.0</td>\n      <td>2100</td>\n      <td>8118</td>\n      <td>40.758216</td>\n      <td>-73.965190</td>\n    </tr>\n    <tr>\n      <th>142</th>\n      <td>1930 Broadway</td>\n      <td>No fee rental in Central Park West</td>\n      <td>5.06</td>\n      <td>2.0</td>\n      <td>1600</td>\n      <td>8095</td>\n      <td>40.772474</td>\n      <td>-73.981901</td>\n    </tr>\n    <tr>\n      <th>143</th>\n      <td>33 West 9th Street</td>\n      <td>Rental in Greenwich Village</td>\n      <td>6.67</td>\n      <td>2.0</td>\n      <td>1500</td>\n      <td>10000</td>\n      <td>40.733691</td>\n      <td>-73.997323</td>\n    </tr>\n  </tbody>\n</table>\n</div>", 
                        "text/plain": "                  Address                                Area  Price_per_ft2  \\\n139  200 East 72nd Street                Rental in Lenox Hill           5.15   \n140      50 Murray Street            No fee rental in Tribeca           7.11   \n141  300 East 56th Street       No fee rental in Midtown East           3.87   \n142         1930 Broadway  No fee rental in Central Park West           5.06   \n143    33 West 9th Street         Rental in Greenwich Village           6.67   \n\n     Rooms  Area-ft2  Rent_Price        Lat       Long  \n139    3.0      1700        8750  40.769465 -73.960339  \n140    2.0      1223        8700  40.714051 -74.009608  \n141    3.0      2100        8118  40.758216 -73.965190  \n142    2.0      1600        8095  40.772474 -73.981901  \n143    2.0      1500       10000  40.733691 -73.997323  "
                    }, 
                    "output_type": "execute_result"
                }
            ], 
            "source": "mh_rent.tail()"
        }, 
        {
            "source": "# Manhattan apartment rent price statistics\n### A US 7000 Dollar per month rent is actually around the mean value", 
            "cell_type": "markdown", 
            "metadata": {}
        }, 
        {
            "execution_count": null, 
            "cell_type": "code", 
            "metadata": {}, 
            "outputs": [], 
            "source": "import seaborn as sns\nsns.distplot(mh_rent['Rent_Price'],bins=15)"
        }, 
        {
            "execution_count": null, 
            "cell_type": "code", 
            "metadata": {}, 
            "outputs": [], 
            "source": "import seaborn as sns\nsns.distplot(mh_rent['Price_per_ft2'],bins=15)"
        }, 
        {
            "execution_count": null, 
            "cell_type": "code", 
            "metadata": {}, 
            "outputs": [], 
            "source": "sns.boxplot(x='Rooms', y= 'Rent_Price', data=mh_rent)"
        }, 
        {
            "source": "# Map of Manhattan apartments for rent \n### The popups will indicate the address and the monthly price for rent thus making it convenient to select the target appartment with the price condition estipulated", 
            "cell_type": "markdown", 
            "metadata": {}
        }, 
        {
            "execution_count": null, 
            "cell_type": "code", 
            "metadata": {}, 
            "outputs": [], 
            "source": "# create map of Manhattan using latitude and longitude values from Nominatim\nlatitude= 40.7308619\nlongitude= -73.9871558\n\nmap_manhattan_rent = folium.Map(location=[latitude, longitude], zoom_start=12.5)\n\n# add markers to map\nfor lat, lng, label in zip(mh_rent['Lat'], mh_rent['Long'],'$ ' + mh_rent['Rent_Price'].astype(str)+ ',  '+ mh_rent['Address']):      \n    label = folium.Popup(label, parse_html=True)\n    folium.CircleMarker(\n        [lat, lng],\n        radius=6,\n        popup=label,\n        color='blue',\n        fill=True,\n        fill_color='#3186cc',\n        fill_opacity=0.7,\n        parse_html=False).add_to(map_manhattan_rent) \n    \n\nmap_manhattan_rent"
        }, 
        {
            "source": "# Map of Manhattan showing the places for rent and the cluster of venues \n### Now, one can point to a rental place for price and address location information while knowing the cluster venues around it.\n### This is an insightful way to explore rental possibilites", 
            "cell_type": "markdown", 
            "metadata": {}
        }, 
        {
            "execution_count": null, 
            "cell_type": "code", 
            "metadata": {}, 
            "outputs": [], 
            "source": "# create map of Manhattan using latitude and longitude values from Nominatim\nlatitude= 40.7308619\nlongitude= -73.9871558\n\n# create map with clusters\nkclusters=5\nmap_clusters2 = folium.Map(location=[latitude, longitude], zoom_start=13)\n\n# set color scheme for the clusters\nx = np.arange(kclusters)\nys = [i+x+(i*x)**2 for i in range(kclusters)]\ncolors_array = cm.rainbow(np.linspace(0, 1, len(ys)))\nrainbow = [colors.rgb2hex(i) for i in colors_array]\n\n# add markers to the map\nmarkers_colors = []\nfor lat, lon, poi, cluster in zip(manhattan_merged['Latitude'], manhattan_merged['Longitude'], manhattan_merged['Neighborhood'], manhattan_merged['Cluster Labels']):\n    label = folium.Popup(str(poi) + ' Cluster ' + str(cluster), parse_html=True)\n    folium.CircleMarker(\n        [lat, lon],\n        radius=20,\n        popup=label,\n        color=rainbow[cluster-1],\n        fill=True,\n        fill_color=rainbow[cluster-1],\n        fill_opacity=0.7).add_to(map_clusters2)\n\n# add markers to map for rental places\nfor lat, lng, label in zip(mh_rent['Lat'], mh_rent['Long'],'$ ' + mh_rent['Rent_Price'].astype(str)+ mh_rent['Address']):      \n    label = folium.Popup(label, parse_html=True)\n    folium.CircleMarker(\n        [lat, lng],\n        radius=6,\n        popup=label,\n        color='blue',\n        fill=True,\n        fill_color='#3186cc',\n        fill_opacity=0.7,\n        parse_html=False).add_to(map_clusters2)  \n    \n    # Adds tool to the top right\nfrom folium.plugins import MeasureControl\nmap_manhattan_rent.add_child(MeasureControl())\n\n# FMeasurement ruler icon to establish distnces on map\nfrom folium.plugins import FloatImage\nurl = ('https://media.licdn.com/mpr/mpr/shrinknp_100_100/AAEAAQAAAAAAAAlgAAAAJGE3OTA4YTdlLTkzZjUtNDFjYy1iZThlLWQ5OTNkYzlhNzM4OQ.jpg')\nFloatImage(url, bottom=5, left=85).add_to(map_manhattan_rent)\n\nmap_clusters2\n"
        }, 
        {
            "source": "# Now one can explore a particular rental place and its venues in detail\n\n## In the map above, examination of appartments with rental place below 7000/month is straightforward while knowing the venues around it. \n## We could find an appartment with at the right price and in a location with desirable venues. The next step is to see if it is located near a subway metro station, in next cells work.", 
            "cell_type": "markdown", 
            "metadata": {}
        }, 
        {
            "execution_count": null, 
            "cell_type": "code", 
            "metadata": {}, 
            "outputs": [], 
            "source": "## kk is the cluster number to explore\nkk = 3\nmanhattan_merged.loc[manhattan_merged['Cluster Labels'] == kk, manhattan_merged.columns[[1] + list(range(5, manhattan_merged.shape[1]))]]"
        }, 
        {
            "source": "# Mapping Manhattan Subway locations\n### Manhattan subway metro locations ( address) was obtained from webscrapping sites such as Wikipedia, Google and NY Metro Transit.  For simplification, a csv file was produced from Numbers so that the reading of this file is the starting point here.\n\n### The geodata will be obtain via Nominatim using the algorythm below.", 
            "cell_type": "markdown", 
            "metadata": {}
        }, 
        {
            "execution_count": 52, 
            "cell_type": "code", 
            "metadata": {}, 
            "outputs": [
                {
                    "execution_count": 52, 
                    "metadata": {}, 
                    "data": {
                        "text/html": "<div>\n<style scoped>\n    .dataframe tbody tr th:only-of-type {\n        vertical-align: middle;\n    }\n\n    .dataframe tbody tr th {\n        vertical-align: top;\n    }\n\n    .dataframe thead th {\n        text-align: right;\n    }\n</style>\n<table border=\"1\" class=\"dataframe\">\n  <thead>\n    <tr style=\"text-align: right;\">\n      <th></th>\n      <th>sub_station</th>\n      <th>sub_address</th>\n    </tr>\n  </thead>\n  <tbody>\n    <tr>\n      <th>0</th>\n      <td>Dyckman Street Subway Station</td>\n      <td>170 Nagle Ave, New York, NY 10034, USA</td>\n    </tr>\n    <tr>\n      <th>1</th>\n      <td>57 Street Subway Station</td>\n      <td>New York, NY 10106, USA</td>\n    </tr>\n    <tr>\n      <th>2</th>\n      <td>Broad St</td>\n      <td>New York, NY 10005, USA</td>\n    </tr>\n    <tr>\n      <th>3</th>\n      <td>175 Street Station</td>\n      <td>807 W 177th St, New York, NY 10033, USA</td>\n    </tr>\n    <tr>\n      <th>4</th>\n      <td>5 Av and 53 St</td>\n      <td>New York, NY 10022, USA</td>\n    </tr>\n  </tbody>\n</table>\n</div>", 
                        "text/plain": "                     sub_station                              sub_address\n0  Dyckman Street Subway Station   170 Nagle Ave, New York, NY 10034, USA\n1       57 Street Subway Station                  New York, NY 10106, USA\n2                       Broad St                  New York, NY 10005, USA\n3             175 Street Station  807 W 177th St, New York, NY 10033, USA\n4                 5 Av and 53 St                  New York, NY 10022, USA"
                    }, 
                    "output_type": "execute_result"
                }
            ], 
            "source": "\nbody = client_93c8f3b6e0d845dfa025384daf149bb5.get_object(Bucket='courseracapstone-donotdelete-pr-aloi0rzs0juxny',Key='nyc_subway_list.csv')['Body']\n# add missing __iter__ method, so pandas accepts body as file-like object\nif not hasattr(body, \"__iter__\"): body.__iter__ = types.MethodType( __iter__, body )\n\ndf_data_4 = pd.read_csv(body)\ndf_data_4.head()\n"
        }, 
        {
            "execution_count": 53, 
            "cell_type": "code", 
            "metadata": {}, 
            "outputs": [
                {
                    "execution_count": 53, 
                    "metadata": {}, 
                    "data": {
                        "text/html": "<div>\n<style scoped>\n    .dataframe tbody tr th:only-of-type {\n        vertical-align: middle;\n    }\n\n    .dataframe tbody tr th {\n        vertical-align: top;\n    }\n\n    .dataframe thead th {\n        text-align: right;\n    }\n</style>\n<table border=\"1\" class=\"dataframe\">\n  <thead>\n    <tr style=\"text-align: right;\">\n      <th></th>\n      <th>sub_station</th>\n      <th>sub_address</th>\n    </tr>\n  </thead>\n  <tbody>\n    <tr>\n      <th>0</th>\n      <td>Dyckman Street Subway Station</td>\n      <td>170 Nagle Ave, New York, NY 10034, USA</td>\n    </tr>\n    <tr>\n      <th>1</th>\n      <td>57 Street Subway Station</td>\n      <td>New York, NY 10106, USA</td>\n    </tr>\n    <tr>\n      <th>2</th>\n      <td>Broad St</td>\n      <td>New York, NY 10005, USA</td>\n    </tr>\n    <tr>\n      <th>3</th>\n      <td>175 Street Station</td>\n      <td>807 W 177th St, New York, NY 10033, USA</td>\n    </tr>\n    <tr>\n      <th>4</th>\n      <td>5 Av and 53 St</td>\n      <td>New York, NY 10022, USA</td>\n    </tr>\n  </tbody>\n</table>\n</div>", 
                        "text/plain": "                     sub_station                              sub_address\n0  Dyckman Street Subway Station   170 Nagle Ave, New York, NY 10034, USA\n1       57 Street Subway Station                  New York, NY 10106, USA\n2                       Broad St                  New York, NY 10005, USA\n3             175 Street Station  807 W 177th St, New York, NY 10033, USA\n4                 5 Av and 53 St                  New York, NY 10022, USA"
                    }, 
                    "output_type": "execute_result"
                }
            ], 
            "source": "# A csv file summarized the subway station and the addresses for next step to determine geodata\nmh= df_data_4\nmh.head()"
        }, 
        {
            "source": "### Add colums labeled 'lat' and 'long' to be filled with geodata", 
            "cell_type": "markdown", 
            "metadata": {}
        }, 
        {
            "execution_count": null, 
            "cell_type": "code", 
            "metadata": {}, 
            "outputs": [], 
            "source": "#  Add columns 'lat'  and 'long' to mh dataframe - with random temporary numbers to get started\nsLength = len(mh['sub_station'])\nlat = pd.Series(np.random.randn(sLength))\nlong=pd.Series(np.random.randn(sLength))\nmh = mh.assign(lat=lat.values)\nmh = mh.assign(long=long.values)"
        }, 
        {
            "execution_count": null, 
            "cell_type": "code", 
            "metadata": {}, 
            "outputs": [], 
            "source": "## Algorythm to find latitude and longitud for each subway metro station and add them to dataframe\n\nfor n in range(len(mh)):\n    address= mh['sub_address'][n]\n    geolocator = Nominatim()\n    location = geolocator.geocode(address)\n    latitude = location.latitude\n    longitude = location.longitude\n    mh['lat'][n]=latitude\n    mh['long'][n]=longitude\n    #print(n,latitude,longitude)\n    time.sleep(2)\n\nprint('Geodata completed')\n# save dataframe to csv file\nmh.to_csv('MH_subway.csv',index=False)\nmh.shape"
        }, 
        {
            "execution_count": null, 
            "cell_type": "code", 
            "metadata": {}, 
            "outputs": [], 
            "source": "\nbody = client_93c8f3b6e0d845dfa025384daf149bb5.get_object(Bucket='courseracapstone-donotdelete-pr-aloi0rzs0juxny',Key='mh_subway.csv')['Body']\n# add missing __iter__ method, so pandas accepts body as file-like object\nif not hasattr(body, \"__iter__\"): body.__iter__ = types.MethodType( __iter__, body )\n\ndf_data_5 = pd.read_csv(body)\ndf_data_5.head()\n"
        }, 
        {
            "execution_count": 54, 
            "cell_type": "code", 
            "metadata": {}, 
            "outputs": [
                {
                    "ename": "NameError", 
                    "evalue": "name 'df_data_5' is not defined", 
                    "traceback": [
                        "\u001b[0;31m---------------------------------------------------------------------------\u001b[0m", 
                        "\u001b[0;31mNameError\u001b[0m                                 Traceback (most recent call last)", 
                        "\u001b[0;32m<ipython-input-54-0eee97961d06>\u001b[0m in \u001b[0;36m<module>\u001b[0;34m\u001b[0m\n\u001b[0;32m----> 1\u001b[0;31m \u001b[0mmh\u001b[0m\u001b[0;34m=\u001b[0m \u001b[0mdf_data_5\u001b[0m\u001b[0;34m\u001b[0m\u001b[0;34m\u001b[0m\u001b[0m\n\u001b[0m\u001b[1;32m      2\u001b[0m \u001b[0mprint\u001b[0m\u001b[0;34m(\u001b[0m\u001b[0mmh\u001b[0m\u001b[0;34m.\u001b[0m\u001b[0mshape\u001b[0m\u001b[0;34m)\u001b[0m\u001b[0;34m\u001b[0m\u001b[0;34m\u001b[0m\u001b[0m\n\u001b[1;32m      3\u001b[0m \u001b[0mmh\u001b[0m\u001b[0;34m.\u001b[0m\u001b[0mhead\u001b[0m\u001b[0;34m(\u001b[0m\u001b[0;34m)\u001b[0m\u001b[0;34m\u001b[0m\u001b[0;34m\u001b[0m\u001b[0m\n", 
                        "\u001b[0;31mNameError\u001b[0m: name 'df_data_5' is not defined"
                    ], 
                    "output_type": "error"
                }
            ], 
            "source": "mh= df_data_5\nprint(mh.shape)\nmh.head()"
        }, 
        {
            "execution_count": null, 
            "cell_type": "code", 
            "metadata": {}, 
            "outputs": [], 
            "source": "# removing duplicate rows and creating new set mhsub1\nmhsub1=mh.drop_duplicates(subset=['lat','long'], keep=\"last\").reset_index(drop=True)\nmhsub1.shape"
        }, 
        {
            "execution_count": null, 
            "cell_type": "code", 
            "metadata": {}, 
            "outputs": [], 
            "source": "mhsub1.tail()"
        }, 
        {
            "source": "## MAP of Manhattan showing the location of subway stations", 
            "cell_type": "markdown", 
            "metadata": {}
        }, 
        {
            "execution_count": null, 
            "cell_type": "code", 
            "metadata": {}, 
            "outputs": [], 
            "source": "# map subway stations \n# create map of Manhattan using latitude and longitude values obtain previoulsy via Moninatim geolocator\nlatitude=40.7308619\nlongitude=-73.9871558\n\nmap_mhsub1 = folium.Map(location=[latitude, longitude], zoom_start=12)\n\n# add markers of subway locations to map\nfor lat, lng, label in zip(mhsub1['lat'], mhsub1['long'],  mhsub1['sub_station'].astype(str) ):\n    label = folium.Popup(label, parse_html=True)\n    folium.RegularPolygonMarker(\n        [lat, lng],\n        number_of_sides=6,\n        radius=6,\n        popup=label,\n        color='red',\n        fill_color='red',\n        fill_opacity=2.5,\n    ).add_to(map_mhsub1) \nmap_mhsub1"
        }, 
        {
            "source": "# Map of Manhattan showing places for rent and the subway locations nearby\n\n## Now, we can visualize the desirable rental places and their nearest subway station. Popups display rental address and monthly rental price and the subway station name.\n### Notice that the icon in the top-right corner is a \"ruler\" that allows to measure the distance from a rental place to an specific subway station\n", 
            "cell_type": "markdown", 
            "metadata": {}
        }, 
        {
            "execution_count": null, 
            "cell_type": "code", 
            "metadata": {}, 
            "outputs": [], 
            "source": "mh_rent.head()"
        }, 
        {
            "execution_count": null, 
            "cell_type": "code", 
            "metadata": {}, 
            "outputs": [], 
            "source": "# create map of Manhattan using latitude and longitude values from Nominatim\nlatitude= 40.7308619\nlongitude= -73.9871558\n\nmap_manhattan_rent = folium.Map(location=[latitude, longitude], zoom_start=13.3)\n\n# add markers to map\nfor lat, lng, label in zip(mh_rent['Lat'], mh_rent['Long'],'$ ' + mh_rent['Rent_Price'].astype(str)+ mh_rent['Address']):      \n    label = folium.Popup(label, parse_html=True)\n    folium.CircleMarker(\n        [lat, lng],\n        radius=6,\n        popup=label,\n        color='blue',\n        fill=True,\n        fill_color='#3186cc',\n        fill_opacity=0.7,\n        parse_html=False).add_to(map_manhattan_rent) \n    \n    # add markers of subway locations to map\nfor lat, lng, label in zip(mhsub1['lat'], mhsub1['long'],  mhsub1['sub_station'].astype(str) ):\n    label = folium.Popup(label, parse_html=True)\n    folium.RegularPolygonMarker(\n        [lat, lng],\n        number_of_sides=6,\n        radius=6,\n        popup=label,\n        color='red',\n        fill_color='red',\n        fill_opacity=2.5,\n    ).add_to(map_manhattan_rent) \n    \n    # Adds tool to the top right\nfrom folium.plugins import MeasureControl\nmap_manhattan_rent.add_child(MeasureControl())\n\n# Measurement ruler icon tool to measure distances in map\nfrom folium.plugins import FloatImage\nurl = ('https://media.licdn.com/mpr/mpr/shrinknp_100_100/AAEAAQAAAAAAAAlgAAAAJGE3OTA4YTdlLTkzZjUtNDFjYy1iZThlLWQ5OTNkYzlhNzM4OQ.jpg')\nFloatImage(url, bottom=5, left=85).add_to(map_manhattan_rent)\n\nmap_manhattan_rent"
        }, 
        {
            "source": "# 4.0 Results\n\n## CONSOLIDATE MAP\n### Let's consolidate all the required information to make the apartment selection in one map\n", 
            "cell_type": "markdown", 
            "metadata": {}
        }, 
        {
            "source": "# Map of Manhattan with rental places, subway locations and cluster of venues\n###  Red dots are Subway stations, Blue dots are apartments available for rent, Bubbles are the clusters of venues", 
            "cell_type": "markdown", 
            "metadata": {}
        }, 
        {
            "execution_count": null, 
            "cell_type": "code", 
            "metadata": {}, 
            "outputs": [], 
            "source": "# create map of Manhattan using latitude and longitude values from Nominatim\nlatitude= 40.7308619\nlongitude= -73.9871558\n\nmap_mh_one = folium.Map(location=[latitude, longitude], zoom_start=13.3)\n\n# add markers to map\nfor lat, lng, label in zip(mh_rent['Lat'], mh_rent['Long'],'$ ' + mh_rent['Rent_Price'].astype(str)+ ', '+mh_rent['Address']):      \n    label = folium.Popup(label, parse_html=True)\n    folium.CircleMarker(\n        [lat, lng],\n        radius=6,\n        popup=label,\n        color='blue',\n        fill=True,\n        fill_color='#3186cc',\n        fill_opacity=0.7,\n        parse_html=False).add_to(map_mh_one) \n    \n    # add markers of subway locations to map\nfor lat, lng, label in zip(mhsub1['lat'], mhsub1['long'],  mhsub1['sub_station'].astype(str) ):\n    label = folium.Popup(label, parse_html=True)\n    folium.RegularPolygonMarker(\n        [lat, lng],\n        number_of_sides=6,\n        radius=6,\n        popup=label,\n        color='red',\n        fill_color='red',\n        fill_opacity=2.5,\n    ).add_to(map_mh_one) \n\n\n# set color scheme for the clusters\nkclusters=5\nx = np.arange(kclusters)\nys = [i+x+(i*x)**2 for i in range(kclusters)]\ncolors_array = cm.rainbow(np.linspace(0, 1, len(ys)))\nrainbow = [colors.rgb2hex(i) for i in colors_array]\n\n# add markers to the map\nmarkers_colors = []\nfor lat, lon, poi, cluster in zip(manhattan_merged['Latitude'], manhattan_merged['Longitude'], manhattan_merged['Neighborhood'], manhattan_merged['Cluster Labels']):\n    label = folium.Popup(str(poi) + ' Cluster ' + str(cluster), parse_html=True)\n    folium.CircleMarker(\n        [lat, lon],\n        radius=15,\n        popup=label,\n        color=rainbow[cluster-1],\n        fill=True,\n        fill_color=rainbow[cluster-1],\n        fill_opacity=0.7).add_to(map_mh_one)\n\n    # Adds tool to the top right\nfrom folium.plugins import MeasureControl\nmap_mh_one.add_child(MeasureControl())\n\n# Measurement ruler icon tool to measure distances in map\nfrom folium.plugins import FloatImage\nurl = ('https://media.licdn.com/mpr/mpr/shrinknp_100_100/AAEAAQAAAAAAAAlgAAAAJGE3OTA4YTdlLTkzZjUtNDFjYy1iZThlLWQ5OTNkYzlhNzM4OQ.jpg')\nFloatImage(url, bottom=5, left=85).add_to(map_mh_one)\n\nmap_mh_one"
        }, 
        {
            "source": "# Problem Resolution", 
            "cell_type": "markdown", 
            "metadata": {}
        }, 
        {
            "source": "## The above consolidate map was used to explore options.  \n### After examining, I have chosen two locations that meet the requirements which will assess to make a choice.\n\n- Apartment 1: \n    305 East 63rd Street in the Sutton Place Neighborhood and near 'subway 59th Street' station, Cluster # 2\n    Monthly rent : 7500 Dollars\n    \n- Apartment 2: \n    19 Dutch Street in the Financial District Neighborhood and near 'Fulton Street Subway' station, Cluster # 3\n    Monthly rent : 6935 Dollars\n ", 
            "cell_type": "markdown", 
            "metadata": {}
        }, 
        {
            "source": "## Venues for Apartment 1 - Cluster 2", 
            "cell_type": "markdown", 
            "metadata": {}
        }, 
        {
            "execution_count": null, 
            "cell_type": "code", 
            "metadata": {}, 
            "outputs": [], 
            "source": "## kk is the cluster number to explore\nkk = 2\nmanhattan_merged.loc[manhattan_merged['Cluster Labels'] == kk, manhattan_merged.columns[[1] + list(range(5, manhattan_merged.shape[1]))]]"
        }, 
        {
            "execution_count": null, 
            "cell_type": "code", 
            "metadata": {}, 
            "outputs": [], 
            "source": "## Venues for Apartment 2 - Cluster 3"
        }, 
        {
            "execution_count": null, 
            "cell_type": "code", 
            "metadata": {}, 
            "outputs": [], 
            "source": "## kk is the cluster number to explore\nkk = 3\nmanhattan_merged.loc[manhattan_merged['Cluster Labels'] == kk, manhattan_merged.columns[[1] + list(range(5, manhattan_merged.shape[1]))]]"
        }, 
        {
            "source": "# Apartment Selection\n\n###  Using the \"one map\" above, I was able to explore all possibilities since the popups provide the information needed for a good decision.\n\n### Apartment 1 rent cost is US7500 slightly above the budget. Apt 1 is located 400 meters from subway station at 59th Street and work place ( Park Ave and 53rd) is another 600 meters way. I can walk to work place and use subway for other places aroung. Venues for this apt are as of Cluster 2 and it is located in a fine district in the East side of Manhattan.\n\n### Apartment 2 rent cost is US6935, just under budget. Apt 2 is located 60 meters from subway station at Fulton Street, but I will have to ride the subway daily to work , possibly 40-60 min ride. Venues for this apt are as of Cluster 3.\u00b6\n\n###  I feel that Cluster 2 type of venues is a better option. That means that APARTMENT 1 is a better choice since the extra monthly rent is worth the conveniences it provides.", 
            "cell_type": "markdown", 
            "metadata": {}
        }, 
        {
            "source": "# 5.0 DISCUSSION", 
            "cell_type": "markdown", 
            "metadata": {}
        }, 
        {
            "source": "###  This project gave me a good opportunity to apply and exercice all of the skills I learned in the past two months while taking this course.", 
            "cell_type": "markdown", 
            "metadata": {}
        }, 
        {
            "source": "# 6.0 CONCLUSIONS", 
            "cell_type": "markdown", 
            "metadata": {}
        }, 
        {
            "source": "### I'm actually impressed of all the things you can do when you know how to manipulate data. What is amazing is the amount of data available open source. It's a very powerful ressource that will most likely become more and more valuable in the future.", 
            "cell_type": "markdown", 
            "metadata": {}
        }
    ], 
    "metadata": {
        "kernelspec": {
            "display_name": "Python 3.6", 
            "name": "python3", 
            "language": "python"
        }, 
        "language_info": {
            "mimetype": "text/x-python", 
            "nbconvert_exporter": "python", 
            "version": "3.6.8", 
            "name": "python", 
            "file_extension": ".py", 
            "pygments_lexer": "ipython3", 
            "codemirror_mode": {
                "version": 3, 
                "name": "ipython"
            }
        }
    }, 
    "nbformat": 4
}