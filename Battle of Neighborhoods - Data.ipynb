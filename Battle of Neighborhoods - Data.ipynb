{
    "nbformat_minor": 1, 
    "cells": [
        {
            "source": "# Data Section", 
            "cell_type": "markdown", 
            "attachments": {}, 
            "metadata": {
                "collapsed": true
            }
        }, 
        {
            "source": "Following sources of data will be used for this project:\n\n#### HM Land Registry: Price Paid Data\nOpen Data published by Government of UK under the section \nDataset in form of CSV file\nAugust 2018 data\n\nPrice Paid Data includes information on all property sales in England and Wales that are sold for full market value and are lodged with us for registration.\n\nThe dataset includes the transactions received at HM Land Registry in the period from the first to the last day of August 2018.\n\nThis dataset was downloaded and later hosted on https://labs.cognitiveclass.ai/ for ease of use.\n\nSource: -\nhttp://landregistry.data.gov.uk/\n\n\n\n#### Google Maps Geocoding API \nJSON\n\nLocation coordinates obtained by Gmaps API calls.\n\nLocation Information obtained from Price Paid Dataset is used to obtain the location coordinates from Google Maps.\n\nSource:\nGoogle Cloud Platform/ Google Maps\n\n#### Foursquare location data\nJSON\n\nLocation coordinates obtained by Foursquare API calls.\n\nTo determine the proximity of various useful ressources for the client\u2019s requirement, Foursquare location data is used.\n\nSource: -\nhttps://foursquare.com/", 
            "cell_type": "markdown", 
            "attachments": {}, 
            "metadata": {}
        }, 
        {
            "execution_count": null, 
            "cell_type": "code", 
            "metadata": {}, 
            "outputs": [], 
            "source": ""
        }
    ], 
    "metadata": {
        "kernelspec": {
            "display_name": "Python 3.6", 
            "name": "python3", 
            "language": "python"
        }, 
        "language_info": {
            "mimetype": "text/x-python", 
            "nbconvert_exporter": "python", 
            "version": "3.6.8", 
            "name": "python", 
            "file_extension": ".py", 
            "pygments_lexer": "ipython3", 
            "codemirror_mode": {
                "version": 3, 
                "name": "ipython"
            }
        }
    }, 
    "nbformat": 4
}